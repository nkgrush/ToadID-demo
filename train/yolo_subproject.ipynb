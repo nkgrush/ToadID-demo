{
 "cells": [
  {
   "cell_type": "markdown",
   "metadata": {
    "id": "l_QzzrodVZxU"
   },
   "source": [
    "## Init"
   ]
  },
  {
   "cell_type": "code",
   "execution_count": null,
   "metadata": {
    "colab": {
     "base_uri": "https://localhost:8080/"
    },
    "id": "3d_mgP9LQru6",
    "outputId": "e08df458-815b-4d1b-8ed7-d7aafda3d635"
   },
   "outputs": [
    {
     "name": "stdout",
     "output_type": "stream",
     "text": [
      "Mounted at /gdrive\n"
     ]
    }
   ],
   "source": [
    "from google.colab import drive\n",
    "drive.mount('/gdrive')\n",
    "\n",
    "!cp '/gdrive/MyDrive/yolo_all_images.zip' .\n",
    "!unzip -q yolo_all_images.zip\n",
    "!mv yolo_all_images/* ."
   ]
  },
  {
   "cell_type": "code",
   "execution_count": null,
   "metadata": {
    "id": "ZZ8eTekQNqut"
   },
   "outputs": [],
   "source": [
    "%%capture\n",
    "!git clone https://github.com/ultralytics/yolov5.git\n",
    "%cd /content/yolov5\n",
    "!pip install -r requirements.txt\n",
    "!pip install wandb"
   ]
  },
  {
   "cell_type": "code",
   "execution_count": null,
   "metadata": {
    "colab": {
     "base_uri": "https://localhost:8080/"
    },
    "id": "uCmZqHYePAd4",
    "outputId": "7fca987c-ced2-45cf-f6b3-1286bf4f748d"
   },
   "outputs": [
    {
     "name": "stderr",
     "output_type": "stream",
     "text": [
      "YOLOv5 🚀 v7.0-4-g7398d2d Python-3.7.15 torch-1.12.1+cu113 CPU\n"
     ]
    },
    {
     "name": "stdout",
     "output_type": "stream",
     "text": [
      "Setup complete ✅ (2 CPUs, 12.7 GB RAM, 25.4/225.8 GB disk)\n"
     ]
    }
   ],
   "source": [
    "import torch\n",
    "import utils\n",
    "display = utils.notebook_init()"
   ]
  },
  {
   "cell_type": "code",
   "execution_count": null,
   "metadata": {
    "colab": {
     "base_uri": "https://localhost:8080/"
    },
    "id": "fNFV7QtfOxxv",
    "outputId": "27b2c78f-738b-441b-814a-31c891bc940e"
   },
   "outputs": [
    {
     "name": "stdout",
     "output_type": "stream",
     "text": [
      "\u001b[34m\u001b[1mdetect: \u001b[0mweights=['yolov5s.pt'], source=data/images, data=data/coco128.yaml, imgsz=[640, 640], conf_thres=0.25, iou_thres=0.45, max_det=1000, device=, view_img=False, save_txt=False, save_conf=False, save_crop=False, nosave=False, classes=None, agnostic_nms=False, augment=False, visualize=False, update=False, project=runs/detect, name=exp, exist_ok=False, line_thickness=3, hide_labels=False, hide_conf=False, half=False, dnn=False, vid_stride=1\n",
      "YOLOv5 🚀 v7.0-4-g7398d2d Python-3.7.15 torch-1.12.1+cu113 CPU\n",
      "\n",
      "Downloading https://github.com/ultralytics/yolov5/releases/download/v7.0/yolov5s.pt to yolov5s.pt...\n",
      "100% 14.1M/14.1M [00:01<00:00, 13.9MB/s]\n",
      "\n",
      "Fusing layers... \n",
      "YOLOv5s summary: 213 layers, 7225885 parameters, 0 gradients\n",
      "image 1/2 /content/yolov5/data/images/bus.jpg: 640x480 4 persons, 1 bus, 512.5ms\n",
      "image 2/2 /content/yolov5/data/images/zidane.jpg: 384x640 2 persons, 2 ties, 392.8ms\n",
      "Speed: 3.1ms pre-process, 452.7ms inference, 8.1ms NMS per image at shape (1, 3, 640, 640)\n",
      "Results saved to \u001b[1mruns/detect/exp\u001b[0m\n"
     ]
    }
   ],
   "source": [
    "!python detect.py --weights yolov5s.pt --img 640 --conf 0.25 --source data/images"
   ]
  },
  {
   "cell_type": "markdown",
   "metadata": {
    "id": "cDDNVHojVYLX"
   },
   "source": [
    "## Train"
   ]
  },
  {
   "cell_type": "code",
   "execution_count": null,
   "metadata": {
    "colab": {
     "base_uri": "https://localhost:8080/"
    },
    "id": "g-gXa0eaTe4y",
    "outputId": "4290bde7-3554-48e9-d16a-79b57de08f1c"
   },
   "outputs": [
    {
     "name": "stdout",
     "output_type": "stream",
     "text": [
      "\u001b[34m\u001b[1mwandb\u001b[0m: Currently logged in as: \u001b[33mctcf\u001b[0m. Use \u001b[1m`wandb login --relogin`\u001b[0m to force relogin\n",
      "\u001b[34m\u001b[1mtrain: \u001b[0mweights=yolov5s.pt, cfg=, data=../dataset.yaml, hyp=data/hyps/hyp.scratch-low.yaml, epochs=50, batch_size=16, imgsz=640, rect=True, resume=False, nosave=False, noval=False, noautoanchor=False, noplots=False, evolve=None, bucket=, cache=None, image_weights=False, device=, multi_scale=False, single_cls=False, optimizer=SGD, sync_bn=False, workers=8, project=toadid_detection, name=exp, exist_ok=False, quad=False, cos_lr=False, label_smoothing=0.0, patience=100, freeze=[0], save_period=-1, seed=0, local_rank=-1, entity=None, upload_dataset=False, bbox_interval=1, artifact_alias=latest\n",
      "\u001b[34m\u001b[1mgithub: \u001b[0mup to date with https://github.com/ultralytics/yolov5 ✅\n",
      "YOLOv5 🚀 v6.2-249-gff6e6e3 Python-3.7.15 torch-1.12.1+cu113 CUDA:0 (Tesla T4, 15110MiB)\n",
      "\n",
      "\u001b[34m\u001b[1mhyperparameters: \u001b[0mlr0=0.01, lrf=0.01, momentum=0.937, weight_decay=0.0005, warmup_epochs=3.0, warmup_momentum=0.8, warmup_bias_lr=0.1, box=0.05, cls=0.5, cls_pw=1.0, obj=1.0, obj_pw=1.0, iou_t=0.2, anchor_t=4.0, fl_gamma=0.0, hsv_h=0.015, hsv_s=0.7, hsv_v=0.4, degrees=0.0, translate=0.1, scale=0.5, shear=0.0, perspective=0.0, flipud=0.0, fliplr=0.5, mosaic=1.0, mixup=0.0, copy_paste=0.0\n",
      "\u001b[34m\u001b[1mClearML: \u001b[0mrun 'pip install clearml' to automatically track, visualize and remotely train YOLOv5 🚀 in ClearML\n",
      "\u001b[34m\u001b[1mComet: \u001b[0mrun 'pip install comet_ml' to automatically track and visualize YOLOv5 🚀 runs in Comet\n",
      "\u001b[34m\u001b[1mTensorBoard: \u001b[0mStart with 'tensorboard --logdir toadid_detection', view at http://localhost:6006/\n",
      "\u001b[34m\u001b[1mwandb\u001b[0m: Tracking run with wandb version 0.13.5\n",
      "\u001b[34m\u001b[1mwandb\u001b[0m: Run data is saved locally in \u001b[35m\u001b[1m/content/yolov5/wandb/run-20221118_090617-24pdi6n9\u001b[0m\n",
      "\u001b[34m\u001b[1mwandb\u001b[0m: Run \u001b[1m`wandb offline`\u001b[0m to turn off syncing.\n",
      "\u001b[34m\u001b[1mwandb\u001b[0m: Syncing run \u001b[33mcerulean-fog-6\u001b[0m\n",
      "\u001b[34m\u001b[1mwandb\u001b[0m: ⭐️ View project at \u001b[34m\u001b[4mhttps://wandb.ai/ctcf/toadid_detection\u001b[0m\n",
      "\u001b[34m\u001b[1mwandb\u001b[0m: 🚀 View run at \u001b[34m\u001b[4mhttps://wandb.ai/ctcf/toadid_detection/runs/24pdi6n9\u001b[0m\n",
      "Overriding model.yaml nc=80 with nc=1\n",
      "\n",
      "                 from  n    params  module                                  arguments                     \n",
      "  0                -1  1      3520  models.common.Conv                      [3, 32, 6, 2, 2]              \n",
      "  1                -1  1     18560  models.common.Conv                      [32, 64, 3, 2]                \n",
      "  2                -1  1     18816  models.common.C3                        [64, 64, 1]                   \n",
      "  3                -1  1     73984  models.common.Conv                      [64, 128, 3, 2]               \n",
      "  4                -1  2    115712  models.common.C3                        [128, 128, 2]                 \n",
      "  5                -1  1    295424  models.common.Conv                      [128, 256, 3, 2]              \n",
      "  6                -1  3    625152  models.common.C3                        [256, 256, 3]                 \n",
      "  7                -1  1   1180672  models.common.Conv                      [256, 512, 3, 2]              \n",
      "  8                -1  1   1182720  models.common.C3                        [512, 512, 1]                 \n",
      "  9                -1  1    656896  models.common.SPPF                      [512, 512, 5]                 \n",
      " 10                -1  1    131584  models.common.Conv                      [512, 256, 1, 1]              \n",
      " 11                -1  1         0  torch.nn.modules.upsampling.Upsample    [None, 2, 'nearest']          \n",
      " 12           [-1, 6]  1         0  models.common.Concat                    [1]                           \n",
      " 13                -1  1    361984  models.common.C3                        [512, 256, 1, False]          \n",
      " 14                -1  1     33024  models.common.Conv                      [256, 128, 1, 1]              \n",
      " 15                -1  1         0  torch.nn.modules.upsampling.Upsample    [None, 2, 'nearest']          \n",
      " 16           [-1, 4]  1         0  models.common.Concat                    [1]                           \n",
      " 17                -1  1     90880  models.common.C3                        [256, 128, 1, False]          \n",
      " 18                -1  1    147712  models.common.Conv                      [128, 128, 3, 2]              \n",
      " 19          [-1, 14]  1         0  models.common.Concat                    [1]                           \n",
      " 20                -1  1    296448  models.common.C3                        [256, 256, 1, False]          \n",
      " 21                -1  1    590336  models.common.Conv                      [256, 256, 3, 2]              \n",
      " 22          [-1, 10]  1         0  models.common.Concat                    [1]                           \n",
      " 23                -1  1   1182720  models.common.C3                        [512, 512, 1, False]          \n",
      " 24      [17, 20, 23]  1     16182  models.yolo.Detect                      [1, [[10, 13, 16, 30, 33, 23], [30, 61, 62, 45, 59, 119], [116, 90, 156, 198, 373, 326]], [128, 256, 512]]\n",
      "Model summary: 214 layers, 7022326 parameters, 7022326 gradients, 15.9 GFLOPs\n",
      "\n",
      "Transferred 343/349 items from yolov5s.pt\n",
      "\u001b[34m\u001b[1mAMP: \u001b[0mchecks passed ✅\n",
      "\u001b[34m\u001b[1moptimizer:\u001b[0m SGD(lr=0.01) with parameter groups 57 weight(decay=0.0), 60 weight(decay=0.0005), 60 bias\n",
      "WARNING ⚠️ --rect is incompatible with DataLoader shuffle, setting shuffle=False\n",
      "\u001b[34m\u001b[1malbumentations: \u001b[0mBlur(p=0.01, blur_limit=(3, 7)), MedianBlur(p=0.01, blur_limit=(3, 7)), ToGray(p=0.01), CLAHE(p=0.01, clip_limit=(1, 4.0), tile_grid_size=(8, 8))\n",
      "\u001b[34m\u001b[1mtrain: \u001b[0mScanning '/content/datasets/toadid/labels/train.cache' images and labels... 1500 found, 0 missing, 0 empty, 0 corrupt: 100% 1500/1500 [00:00<?, ?it/s]\n",
      "\u001b[34m\u001b[1mval: \u001b[0mScanning '/content/datasets/toadid/labels/valid.cache' images and labels... 150 found, 0 missing, 0 empty, 0 corrupt: 100% 150/150 [00:00<?, ?it/s]\n",
      "\n",
      "\u001b[34m\u001b[1mAutoAnchor: \u001b[0m3.31 anchors/target, 1.000 Best Possible Recall (BPR). Current anchors are a good fit to dataset ✅\n",
      "Plotting labels to toadid_detection/exp2/labels.jpg... \n",
      "Image sizes 640 train, 640 val\n",
      "Using 2 dataloader workers\n",
      "Logging results to \u001b[1mtoadid_detection/exp2\u001b[0m\n",
      "Starting training for 50 epochs...\n",
      "\n",
      "      Epoch    GPU_mem   box_loss   obj_loss   cls_loss  Instances       Size\n",
      "       0/49      3.71G     0.0451    0.01948          0         12        640: 100% 94/94 [00:31<00:00,  3.01it/s]\n",
      "                 Class     Images  Instances          P          R      mAP50   mAP50-95: 100% 5/5 [00:05<00:00,  1.14s/it]\n",
      "                   all        150        150       0.38       0.54      0.403      0.173\n",
      "\n",
      "      Epoch    GPU_mem   box_loss   obj_loss   cls_loss  Instances       Size\n",
      "       1/49      4.61G    0.02919    0.01132          0         12        640: 100% 94/94 [00:27<00:00,  3.46it/s]\n",
      "                 Class     Images  Instances          P          R      mAP50   mAP50-95: 100% 5/5 [00:05<00:00,  1.07s/it]\n",
      "                   all        150        150       0.54      0.704      0.682      0.286\n",
      "\n",
      "      Epoch    GPU_mem   box_loss   obj_loss   cls_loss  Instances       Size\n",
      "       2/49      4.61G    0.02736   0.008893          0         12        640: 100% 94/94 [00:27<00:00,  3.36it/s]\n",
      "                 Class     Images  Instances          P          R      mAP50   mAP50-95: 100% 5/5 [00:04<00:00,  1.03it/s]\n",
      "                   all        150        150      0.767      0.873      0.906      0.396\n",
      "\n",
      "      Epoch    GPU_mem   box_loss   obj_loss   cls_loss  Instances       Size\n",
      "       3/49      4.61G    0.02643   0.007638          0         12        640: 100% 94/94 [00:28<00:00,  3.26it/s]\n",
      "                 Class     Images  Instances          P          R      mAP50   mAP50-95: 100% 5/5 [00:05<00:00,  1.00s/it]\n",
      "                   all        150        150      0.652      0.993      0.796      0.407\n",
      "\n",
      "      Epoch    GPU_mem   box_loss   obj_loss   cls_loss  Instances       Size\n",
      "       4/49      4.61G     0.0229   0.007234          0         12        640: 100% 94/94 [00:26<00:00,  3.52it/s]\n",
      "                 Class     Images  Instances          P          R      mAP50   mAP50-95: 100% 5/5 [00:05<00:00,  1.19s/it]\n",
      "                   all        150        150      0.993      0.973      0.994      0.522\n",
      "\n",
      "      Epoch    GPU_mem   box_loss   obj_loss   cls_loss  Instances       Size\n",
      "       5/49      4.61G    0.01929   0.006428          0         12        640: 100% 94/94 [00:29<00:00,  3.21it/s]\n",
      "                 Class     Images  Instances          P          R      mAP50   mAP50-95: 100% 5/5 [00:04<00:00,  1.06it/s]\n",
      "                   all        150        150      0.985      0.987      0.991      0.461\n",
      "\n",
      "      Epoch    GPU_mem   box_loss   obj_loss   cls_loss  Instances       Size\n",
      "       6/49      4.61G    0.01883    0.00599          0         12        640: 100% 94/94 [00:26<00:00,  3.49it/s]\n",
      "                 Class     Images  Instances          P          R      mAP50   mAP50-95: 100% 5/5 [00:05<00:00,  1.13s/it]\n",
      "                   all        150        150      0.999      0.993      0.995      0.655\n",
      "\n",
      "      Epoch    GPU_mem   box_loss   obj_loss   cls_loss  Instances       Size\n",
      "       7/49      4.61G    0.01788    0.00571          0         12        640: 100% 94/94 [00:26<00:00,  3.57it/s]\n",
      "                 Class     Images  Instances          P          R      mAP50   mAP50-95: 100% 5/5 [00:04<00:00,  1.03it/s]\n",
      "                   all        150        150          1      0.998      0.995      0.685\n",
      "\n",
      "      Epoch    GPU_mem   box_loss   obj_loss   cls_loss  Instances       Size\n",
      "       8/49      4.61G    0.01751   0.005448          0         12        640: 100% 94/94 [00:29<00:00,  3.21it/s]\n",
      "                 Class     Images  Instances          P          R      mAP50   mAP50-95: 100% 5/5 [00:04<00:00,  1.03it/s]\n",
      "                   all        150        150      0.999          1      0.995      0.665\n",
      "\n",
      "      Epoch    GPU_mem   box_loss   obj_loss   cls_loss  Instances       Size\n",
      "       9/49      4.61G    0.01753   0.005356          0         12        640: 100% 94/94 [00:26<00:00,  3.52it/s]\n",
      "                 Class     Images  Instances          P          R      mAP50   mAP50-95: 100% 5/5 [00:05<00:00,  1.01s/it]\n",
      "                   all        150        150          1          1      0.995      0.699\n",
      "\n",
      "      Epoch    GPU_mem   box_loss   obj_loss   cls_loss  Instances       Size\n",
      "      10/49      4.61G     0.0168   0.005041          0         12        640: 100% 94/94 [00:29<00:00,  3.19it/s]\n",
      "                 Class     Images  Instances          P          R      mAP50   mAP50-95: 100% 5/5 [00:04<00:00,  1.05it/s]\n",
      "                   all        150        150          1          1      0.995      0.683\n",
      "\n",
      "      Epoch    GPU_mem   box_loss   obj_loss   cls_loss  Instances       Size\n",
      "      11/49      4.61G    0.01603   0.004869          0         12        640: 100% 94/94 [00:29<00:00,  3.23it/s]\n",
      "                 Class     Images  Instances          P          R      mAP50   mAP50-95: 100% 5/5 [00:06<00:00,  1.25s/it]\n",
      "                   all        150        150          1          1      0.995       0.69\n",
      "\n",
      "      Epoch    GPU_mem   box_loss   obj_loss   cls_loss  Instances       Size\n",
      "      12/49      4.61G    0.01458    0.00478          0         12        640: 100% 94/94 [00:27<00:00,  3.46it/s]\n",
      "                 Class     Images  Instances          P          R      mAP50   mAP50-95: 100% 5/5 [00:04<00:00,  1.02it/s]\n",
      "                   all        150        150      0.999          1      0.995      0.708\n",
      "\n",
      "      Epoch    GPU_mem   box_loss   obj_loss   cls_loss  Instances       Size\n",
      "      13/49      4.61G    0.01583   0.004617          0         12        640: 100% 94/94 [00:28<00:00,  3.25it/s]\n",
      "                 Class     Images  Instances          P          R      mAP50   mAP50-95: 100% 5/5 [00:04<00:00,  1.04it/s]\n",
      "                   all        150        150      0.999          1      0.995      0.692\n",
      "\n",
      "      Epoch    GPU_mem   box_loss   obj_loss   cls_loss  Instances       Size\n",
      "      14/49      4.61G    0.01425   0.004573          0         12        640: 100% 94/94 [00:27<00:00,  3.48it/s]\n",
      "                 Class     Images  Instances          P          R      mAP50   mAP50-95: 100% 5/5 [00:04<00:00,  1.04it/s]\n",
      "                   all        150        150      0.999          1      0.995      0.716\n",
      "\n",
      "      Epoch    GPU_mem   box_loss   obj_loss   cls_loss  Instances       Size\n",
      "      15/49      4.61G    0.01502   0.004412          0         12        640: 100% 94/94 [00:29<00:00,  3.21it/s]\n",
      "                 Class     Images  Instances          P          R      mAP50   mAP50-95: 100% 5/5 [00:04<00:00,  1.02it/s]\n",
      "                   all        150        150      0.999          1      0.995      0.708\n",
      "\n",
      "      Epoch    GPU_mem   box_loss   obj_loss   cls_loss  Instances       Size\n",
      "      16/49      4.61G    0.01424   0.004309          0         12        640: 100% 94/94 [00:29<00:00,  3.24it/s]\n",
      "                 Class     Images  Instances          P          R      mAP50   mAP50-95: 100% 5/5 [00:04<00:00,  1.01it/s]\n",
      "                   all        150        150      0.999          1      0.995      0.746\n",
      "\n",
      "      Epoch    GPU_mem   box_loss   obj_loss   cls_loss  Instances       Size\n",
      "      17/49      4.61G    0.01318   0.004309          0         12        640: 100% 94/94 [00:29<00:00,  3.24it/s]\n",
      "                 Class     Images  Instances          P          R      mAP50   mAP50-95: 100% 5/5 [00:05<00:00,  1.00s/it]\n",
      "                   all        150        150      0.999          1      0.995      0.735\n",
      "\n",
      "      Epoch    GPU_mem   box_loss   obj_loss   cls_loss  Instances       Size\n",
      "      18/49      4.61G      0.014   0.004317          0         12        640: 100% 94/94 [00:29<00:00,  3.20it/s]\n",
      "                 Class     Images  Instances          P          R      mAP50   mAP50-95: 100% 5/5 [00:05<00:00,  1.03s/it]\n",
      "                   all        150        150      0.999          1      0.995      0.716\n",
      "\n",
      "      Epoch    GPU_mem   box_loss   obj_loss   cls_loss  Instances       Size\n",
      "      19/49      4.61G     0.0145   0.004355          0         12        640: 100% 94/94 [00:27<00:00,  3.47it/s]\n",
      "                 Class     Images  Instances          P          R      mAP50   mAP50-95: 100% 5/5 [00:05<00:00,  1.00s/it]\n",
      "                   all        150        150          1          1      0.995      0.715\n",
      "\n",
      "      Epoch    GPU_mem   box_loss   obj_loss   cls_loss  Instances       Size\n",
      "      20/49      4.61G    0.01321   0.004276          0         12        640: 100% 94/94 [00:27<00:00,  3.38it/s]\n",
      "                 Class     Images  Instances          P          R      mAP50   mAP50-95: 100% 5/5 [00:04<00:00,  1.02it/s]\n",
      "                   all        150        150      0.999          1      0.995      0.728\n",
      "\n",
      "      Epoch    GPU_mem   box_loss   obj_loss   cls_loss  Instances       Size\n",
      "      21/49      4.61G    0.01428   0.004215          0         12        640: 100% 94/94 [00:28<00:00,  3.28it/s]\n",
      "                 Class     Images  Instances          P          R      mAP50   mAP50-95: 100% 5/5 [00:05<00:00,  1.02s/it]\n",
      "                   all        150        150      0.999          1      0.995      0.733\n",
      "\n",
      "      Epoch    GPU_mem   box_loss   obj_loss   cls_loss  Instances       Size\n",
      "      22/49      4.61G    0.01408   0.004247          0         12        640: 100% 94/94 [00:27<00:00,  3.47it/s]\n",
      "                 Class     Images  Instances          P          R      mAP50   mAP50-95: 100% 5/5 [00:05<00:00,  1.01s/it]\n",
      "                   all        150        150          1          1      0.995      0.733\n",
      "\n",
      "      Epoch    GPU_mem   box_loss   obj_loss   cls_loss  Instances       Size\n",
      "      23/49      4.61G    0.01292   0.004179          0         12        640: 100% 94/94 [00:29<00:00,  3.23it/s]\n",
      "                 Class     Images  Instances          P          R      mAP50   mAP50-95: 100% 5/5 [00:04<00:00,  1.03it/s]\n",
      "                   all        150        150          1          1      0.995      0.734\n",
      "\n",
      "      Epoch    GPU_mem   box_loss   obj_loss   cls_loss  Instances       Size\n",
      "      24/49      4.61G     0.0132   0.004118          0         12        640: 100% 94/94 [00:29<00:00,  3.20it/s]\n",
      "                 Class     Images  Instances          P          R      mAP50   mAP50-95: 100% 5/5 [00:06<00:00,  1.27s/it]\n",
      "                   all        150        150          1          1      0.995      0.751\n",
      "\n",
      "      Epoch    GPU_mem   box_loss   obj_loss   cls_loss  Instances       Size\n",
      "      25/49      4.61G     0.0119    0.00407          0         12        640: 100% 94/94 [00:26<00:00,  3.49it/s]\n",
      "                 Class     Images  Instances          P          R      mAP50   mAP50-95: 100% 5/5 [00:04<00:00,  1.04it/s]\n",
      "                   all        150        150      0.999          1      0.995      0.748\n",
      "\n",
      "      Epoch    GPU_mem   box_loss   obj_loss   cls_loss  Instances       Size\n",
      "      26/49      4.61G     0.0118   0.004082          0         12        640: 100% 94/94 [00:29<00:00,  3.23it/s]\n",
      "                 Class     Images  Instances          P          R      mAP50   mAP50-95: 100% 5/5 [00:04<00:00,  1.00it/s]\n",
      "                   all        150        150      0.999          1      0.995      0.764\n",
      "\n",
      "      Epoch    GPU_mem   box_loss   obj_loss   cls_loss  Instances       Size\n",
      "      27/49      4.61G    0.01365   0.003991          0         12        640: 100% 94/94 [00:26<00:00,  3.50it/s]\n",
      "                 Class     Images  Instances          P          R      mAP50   mAP50-95: 100% 5/5 [00:04<00:00,  1.03it/s]\n",
      "                   all        150        150          1          1      0.995      0.754\n",
      "\n",
      "      Epoch    GPU_mem   box_loss   obj_loss   cls_loss  Instances       Size\n",
      "      28/49      4.61G    0.01239   0.004019          0         12        640: 100% 94/94 [00:28<00:00,  3.26it/s]\n",
      "                 Class     Images  Instances          P          R      mAP50   mAP50-95: 100% 5/5 [00:05<00:00,  1.01s/it]\n",
      "                   all        150        150          1          1      0.995      0.749\n",
      "\n",
      "      Epoch    GPU_mem   box_loss   obj_loss   cls_loss  Instances       Size\n",
      "      29/49      4.61G    0.01281   0.004019          0         12        640: 100% 94/94 [00:27<00:00,  3.48it/s]\n",
      "                 Class     Images  Instances          P          R      mAP50   mAP50-95: 100% 5/5 [00:06<00:00,  1.23s/it]\n",
      "                   all        150        150      0.999          1      0.995      0.757\n",
      "\n",
      "      Epoch    GPU_mem   box_loss   obj_loss   cls_loss  Instances       Size\n",
      "      30/49      4.61G    0.01306   0.003974          0         12        640: 100% 94/94 [00:28<00:00,  3.25it/s]\n",
      "                 Class     Images  Instances          P          R      mAP50   mAP50-95: 100% 5/5 [00:04<00:00,  1.02it/s]\n",
      "                   all        150        150      0.999          1      0.995       0.75\n",
      "\n",
      "      Epoch    GPU_mem   box_loss   obj_loss   cls_loss  Instances       Size\n",
      "      31/49      4.61G    0.01282   0.003804          0         12        640: 100% 94/94 [00:29<00:00,  3.22it/s]\n",
      "                 Class     Images  Instances          P          R      mAP50   mAP50-95: 100% 5/5 [00:04<00:00,  1.05it/s]\n",
      "                   all        150        150      0.999          1      0.995       0.73\n",
      "\n",
      "      Epoch    GPU_mem   box_loss   obj_loss   cls_loss  Instances       Size\n",
      "      32/49      4.61G    0.01231   0.003874          0         12        640: 100% 94/94 [00:27<00:00,  3.48it/s]\n",
      "                 Class     Images  Instances          P          R      mAP50   mAP50-95: 100% 5/5 [00:04<00:00,  1.04it/s]\n",
      "                   all        150        150          1          1      0.995      0.759\n",
      "\n",
      "      Epoch    GPU_mem   box_loss   obj_loss   cls_loss  Instances       Size\n",
      "      33/49      4.61G    0.01173   0.003895          0         12        640: 100% 94/94 [00:29<00:00,  3.22it/s]\n",
      "                 Class     Images  Instances          P          R      mAP50   mAP50-95: 100% 5/5 [00:04<00:00,  1.03it/s]\n",
      "                   all        150        150      0.999          1      0.995      0.768\n",
      "\n",
      "      Epoch    GPU_mem   box_loss   obj_loss   cls_loss  Instances       Size\n",
      "      34/49      4.61G    0.01177   0.003783          0         12        640: 100% 94/94 [00:28<00:00,  3.26it/s]\n",
      "                 Class     Images  Instances          P          R      mAP50   mAP50-95: 100% 5/5 [00:05<00:00,  1.01s/it]\n",
      "                   all        150        150          1          1      0.995       0.75\n",
      "\n",
      "      Epoch    GPU_mem   box_loss   obj_loss   cls_loss  Instances       Size\n",
      "      35/49      4.61G    0.01107   0.003774          0         12        640: 100% 94/94 [00:26<00:00,  3.51it/s]\n",
      "                 Class     Images  Instances          P          R      mAP50   mAP50-95: 100% 5/5 [00:04<00:00,  1.04it/s]\n",
      "                   all        150        150      0.999          1      0.995      0.766\n",
      "\n",
      "      Epoch    GPU_mem   box_loss   obj_loss   cls_loss  Instances       Size\n",
      "      36/49      4.61G    0.01142   0.003752          0         12        640: 100% 94/94 [00:29<00:00,  3.24it/s]\n",
      "                 Class     Images  Instances          P          R      mAP50   mAP50-95: 100% 5/5 [00:04<00:00,  1.04it/s]\n",
      "                   all        150        150      0.999          1      0.995      0.763\n",
      "\n",
      "      Epoch    GPU_mem   box_loss   obj_loss   cls_loss  Instances       Size\n",
      "      37/49      4.61G    0.01136   0.003753          0         12        640: 100% 94/94 [00:27<00:00,  3.37it/s]\n",
      "                 Class     Images  Instances          P          R      mAP50   mAP50-95: 100% 5/5 [00:05<00:00,  1.04s/it]\n",
      "                   all        150        150      0.999          1      0.995      0.761\n",
      "\n",
      "      Epoch    GPU_mem   box_loss   obj_loss   cls_loss  Instances       Size\n",
      "      38/49      4.61G    0.01169   0.003692          0         12        640: 100% 94/94 [00:27<00:00,  3.45it/s]\n",
      "                 Class     Images  Instances          P          R      mAP50   mAP50-95: 100% 5/5 [00:04<00:00,  1.04it/s]\n",
      "                   all        150        150          1          1      0.995      0.765\n",
      "\n",
      "      Epoch    GPU_mem   box_loss   obj_loss   cls_loss  Instances       Size\n",
      "      39/49      4.61G    0.01167   0.003712          0         12        640: 100% 94/94 [00:29<00:00,  3.24it/s]\n",
      "                 Class     Images  Instances          P          R      mAP50   mAP50-95: 100% 5/5 [00:04<00:00,  1.02it/s]\n",
      "                   all        150        150          1          1      0.995      0.763\n",
      "\n",
      "      Epoch    GPU_mem   box_loss   obj_loss   cls_loss  Instances       Size\n",
      "      40/49      4.61G     0.0109   0.003634          0         12        640: 100% 94/94 [00:27<00:00,  3.45it/s]\n",
      "                 Class     Images  Instances          P          R      mAP50   mAP50-95: 100% 5/5 [00:04<00:00,  1.04it/s]\n",
      "                   all        150        150          1          1      0.995      0.758\n",
      "\n",
      "      Epoch    GPU_mem   box_loss   obj_loss   cls_loss  Instances       Size\n",
      "      41/49      4.61G    0.01135   0.003726          0         12        640: 100% 94/94 [00:29<00:00,  3.23it/s]\n",
      "                 Class     Images  Instances          P          R      mAP50   mAP50-95: 100% 5/5 [00:04<00:00,  1.00it/s]\n",
      "                   all        150        150          1          1      0.995      0.764\n",
      "\n",
      "      Epoch    GPU_mem   box_loss   obj_loss   cls_loss  Instances       Size\n",
      "      42/49      4.61G    0.01071   0.003618          0         12        640: 100% 94/94 [00:26<00:00,  3.49it/s]\n",
      "                 Class     Images  Instances          P          R      mAP50   mAP50-95: 100% 5/5 [00:05<00:00,  1.08s/it]\n",
      "                   all        150        150      0.999          1      0.995      0.767\n",
      "\n",
      "      Epoch    GPU_mem   box_loss   obj_loss   cls_loss  Instances       Size\n",
      "      43/49      4.61G    0.01161   0.003731          0         12        640: 100% 94/94 [00:29<00:00,  3.23it/s]\n",
      "                 Class     Images  Instances          P          R      mAP50   mAP50-95: 100% 5/5 [00:04<00:00,  1.01it/s]\n",
      "                   all        150        150          1          1      0.995      0.763\n",
      "\n",
      "      Epoch    GPU_mem   box_loss   obj_loss   cls_loss  Instances       Size\n",
      "      44/49      4.61G    0.01115   0.003623          0         12        640: 100% 94/94 [00:29<00:00,  3.22it/s]\n",
      "                 Class     Images  Instances          P          R      mAP50   mAP50-95: 100% 5/5 [00:04<00:00,  1.04it/s]\n",
      "                   all        150        150      0.999          1      0.995      0.751\n",
      "\n",
      "      Epoch    GPU_mem   box_loss   obj_loss   cls_loss  Instances       Size\n",
      "      45/49      4.61G    0.01145   0.003593          0         12        640: 100% 94/94 [00:27<00:00,  3.48it/s]\n",
      "                 Class     Images  Instances          P          R      mAP50   mAP50-95: 100% 5/5 [00:04<00:00,  1.03it/s]\n",
      "                   all        150        150          1          1      0.995      0.748\n",
      "\n",
      "      Epoch    GPU_mem   box_loss   obj_loss   cls_loss  Instances       Size\n",
      "      46/49      4.61G    0.01155   0.003636          0         12        640: 100% 94/94 [00:29<00:00,  3.20it/s]\n",
      "                 Class     Images  Instances          P          R      mAP50   mAP50-95: 100% 5/5 [00:04<00:00,  1.05it/s]\n",
      "                   all        150        150      0.999          1      0.995      0.741\n",
      "\n",
      "      Epoch    GPU_mem   box_loss   obj_loss   cls_loss  Instances       Size\n",
      "      47/49      4.61G     0.0111   0.003683          0         12        640: 100% 94/94 [00:28<00:00,  3.26it/s]\n",
      "                 Class     Images  Instances          P          R      mAP50   mAP50-95: 100% 5/5 [00:05<00:00,  1.13s/it]\n",
      "                   all        150        150          1          1      0.995       0.75\n",
      "\n",
      "      Epoch    GPU_mem   box_loss   obj_loss   cls_loss  Instances       Size\n",
      "      48/49      4.61G    0.01168   0.003652          0         12        640: 100% 94/94 [00:27<00:00,  3.45it/s]\n",
      "                 Class     Images  Instances          P          R      mAP50   mAP50-95: 100% 5/5 [00:04<00:00,  1.03it/s]\n",
      "                   all        150        150          1          1      0.995      0.747\n",
      "\n",
      "      Epoch    GPU_mem   box_loss   obj_loss   cls_loss  Instances       Size\n",
      "      49/49      4.61G     0.0108   0.003558          0         12        640: 100% 94/94 [00:29<00:00,  3.17it/s]\n",
      "                 Class     Images  Instances          P          R      mAP50   mAP50-95: 100% 5/5 [00:06<00:00,  1.22s/it]\n",
      "                   all        150        150          1          1      0.995      0.737\n",
      "\n",
      "50 epochs completed in 0.494 hours.\n",
      "Optimizer stripped from toadid_detection/exp2/weights/last.pt, 14.5MB\n",
      "Optimizer stripped from toadid_detection/exp2/weights/best.pt, 14.5MB\n",
      "\n",
      "Validating toadid_detection/exp2/weights/best.pt...\n",
      "Fusing layers... \n",
      "Model summary: 157 layers, 7012822 parameters, 0 gradients, 15.8 GFLOPs\n",
      "                 Class     Images  Instances          P          R      mAP50   mAP50-95: 100% 5/5 [00:06<00:00,  1.28s/it]\n",
      "                   all        150        150      0.999          1      0.995      0.768\n",
      "Results saved to \u001b[1mtoadid_detection/exp2\u001b[0m\n",
      "\u001b[34m\u001b[1mwandb\u001b[0m: Waiting for W&B process to finish... \u001b[32m(success).\u001b[0m\n",
      "\u001b[34m\u001b[1mwandb\u001b[0m: \n",
      "\u001b[34m\u001b[1mwandb\u001b[0m: Run history:\n",
      "\u001b[34m\u001b[1mwandb\u001b[0m:      metrics/mAP_0.5 ▁▄▇▆████████████████████████████████████\n",
      "\u001b[34m\u001b[1mwandb\u001b[0m: metrics/mAP_0.5:0.95 ▁▂▄▄▄▇▇▇▇▇▇▇▇██▇████████████████████████\n",
      "\u001b[34m\u001b[1mwandb\u001b[0m:    metrics/precision ▁▃▅▄████████████████████████████████████\n",
      "\u001b[34m\u001b[1mwandb\u001b[0m:       metrics/recall ▁▃▆█████████████████████████████████████\n",
      "\u001b[34m\u001b[1mwandb\u001b[0m:       train/box_loss █▅▄▄▃▃▂▂▂▂▂▂▂▂▂▂▂▂▂▁▁▁▂▁▁▁▁▁▁▁▁▁▁▁▁▁▁▁▁▁\n",
      "\u001b[34m\u001b[1mwandb\u001b[0m:       train/cls_loss ▁▁▁▁▁▁▁▁▁▁▁▁▁▁▁▁▁▁▁▁▁▁▁▁▁▁▁▁▁▁▁▁▁▁▁▁▁▁▁▁\n",
      "\u001b[34m\u001b[1mwandb\u001b[0m:       train/obj_loss █▄▃▃▂▂▂▂▂▂▂▁▁▁▁▁▁▁▁▁▁▁▁▁▁▁▁▁▁▁▁▁▁▁▁▁▁▁▁▁\n",
      "\u001b[34m\u001b[1mwandb\u001b[0m:         val/box_loss ▄▄▃█▃▂▂▂▂▂▁▁▂▁▁▁▁▁▁▁▁▁▁▁▁▁▁▁▁▁▁▁▁▁▁▁▁▁▁▁\n",
      "\u001b[34m\u001b[1mwandb\u001b[0m:         val/cls_loss ▁▁▁▁▁▁▁▁▁▁▁▁▁▁▁▁▁▁▁▁▁▁▁▁▁▁▁▁▁▁▁▁▁▁▁▁▁▁▁▁\n",
      "\u001b[34m\u001b[1mwandb\u001b[0m:         val/obj_loss █▅▄▃▃▂▂▂▂▂▁▁▁▁▁▁▁▁▁▁▁▁▁▁▁▁▁▁▁▁▁▁▁▁▁▁▁▁▁▁\n",
      "\u001b[34m\u001b[1mwandb\u001b[0m:                x/lr0 █▅▂▂▂▂▂▂▂▂▂▂▂▂▂▂▂▂▂▂▁▁▁▁▁▁▁▁▁▁▁▁▁▁▁▁▁▁▁▁\n",
      "\u001b[34m\u001b[1mwandb\u001b[0m:                x/lr1 ▃▆████▇▇▇▇▇▆▆▆▆▆▅▅▅▅▅▅▄▄▄▄▄▃▃▃▃▃▂▂▂▂▂▁▁▁\n",
      "\u001b[34m\u001b[1mwandb\u001b[0m:                x/lr2 ▃▆████▇▇▇▇▇▆▆▆▆▆▅▅▅▅▅▅▄▄▄▄▄▃▃▃▃▃▂▂▂▂▂▁▁▁\n",
      "\u001b[34m\u001b[1mwandb\u001b[0m: \n",
      "\u001b[34m\u001b[1mwandb\u001b[0m: Run summary:\n",
      "\u001b[34m\u001b[1mwandb\u001b[0m:           best/epoch 33\n",
      "\u001b[34m\u001b[1mwandb\u001b[0m:         best/mAP_0.5 0.995\n",
      "\u001b[34m\u001b[1mwandb\u001b[0m:    best/mAP_0.5:0.95 0.76812\n",
      "\u001b[34m\u001b[1mwandb\u001b[0m:       best/precision 0.99945\n",
      "\u001b[34m\u001b[1mwandb\u001b[0m:          best/recall 1.0\n",
      "\u001b[34m\u001b[1mwandb\u001b[0m:      metrics/mAP_0.5 0.995\n",
      "\u001b[34m\u001b[1mwandb\u001b[0m: metrics/mAP_0.5:0.95 0.76828\n",
      "\u001b[34m\u001b[1mwandb\u001b[0m:    metrics/precision 0.99947\n",
      "\u001b[34m\u001b[1mwandb\u001b[0m:       metrics/recall 1.0\n",
      "\u001b[34m\u001b[1mwandb\u001b[0m:       train/box_loss 0.0108\n",
      "\u001b[34m\u001b[1mwandb\u001b[0m:       train/cls_loss 0.0\n",
      "\u001b[34m\u001b[1mwandb\u001b[0m:       train/obj_loss 0.00356\n",
      "\u001b[34m\u001b[1mwandb\u001b[0m:         val/box_loss 0.01054\n",
      "\u001b[34m\u001b[1mwandb\u001b[0m:         val/cls_loss 0.0\n",
      "\u001b[34m\u001b[1mwandb\u001b[0m:         val/obj_loss 0.00356\n",
      "\u001b[34m\u001b[1mwandb\u001b[0m:                x/lr0 0.0005\n",
      "\u001b[34m\u001b[1mwandb\u001b[0m:                x/lr1 0.0005\n",
      "\u001b[34m\u001b[1mwandb\u001b[0m:                x/lr2 0.0005\n",
      "\u001b[34m\u001b[1mwandb\u001b[0m: \n",
      "\u001b[34m\u001b[1mwandb\u001b[0m: Synced \u001b[33mcerulean-fog-6\u001b[0m: \u001b[34m\u001b[4mhttps://wandb.ai/ctcf/toadid_detection/runs/24pdi6n9\u001b[0m\n",
      "\u001b[34m\u001b[1mwandb\u001b[0m: Synced 5 W&B file(s), 1617 media file(s), 1 artifact file(s) and 0 other file(s)\n",
      "\u001b[34m\u001b[1mwandb\u001b[0m: Find logs at: \u001b[35m\u001b[1m./wandb/run-20221118_090617-24pdi6n9/logs\u001b[0m\n"
     ]
    }
   ],
   "source": [
    "!python train.py \\\n",
    "  --data ../dataset.yaml \\\n",
    "  --epochs 50 \\\n",
    "  --project toadid_detection \\\n",
    "  --bbox_interval 1 \\\n",
    "  --rect \\\n",
    "  --weights yolov5s.pt "
   ]
  },
  {
   "cell_type": "code",
   "execution_count": null,
   "metadata": {
    "colab": {
     "base_uri": "https://localhost:8080/"
    },
    "id": "rpG6mjzVbAi1",
    "outputId": "6bf3cbed-44a6-4d8e-d2cd-71f4c4a45379"
   },
   "outputs": [
    {
     "name": "stdout",
     "output_type": "stream",
     "text": [
      "best.pt  last.pt\n"
     ]
    }
   ],
   "source": [
    "!ls toadid_detection/exp/weights"
   ]
  },
  {
   "cell_type": "code",
   "execution_count": null,
   "metadata": {
    "id": "F0I5MWb0WfoU"
   },
   "outputs": [],
   "source": [
    "# !cp toadid_detection/exp/weights/best.pt /gdrive/MyDrive/toadid_detection/"
   ]
  },
  {
   "cell_type": "code",
   "execution_count": null,
   "metadata": {
    "id": "u7OcJQDAbiNj"
   },
   "outputs": [],
   "source": [
    "!cp -r toadid_detection/exp/ /gdrive/MyDrive/toadid_detection/18112022_all"
   ]
  },
  {
   "cell_type": "markdown",
   "metadata": {
    "id": "lU9YR1MndQGi"
   },
   "source": [
    "### Loading"
   ]
  },
  {
   "cell_type": "code",
   "execution_count": null,
   "metadata": {
    "id": "pg5dZl--dJOp"
   },
   "outputs": [],
   "source": [
    "!mkdir toadid_detection"
   ]
  },
  {
   "cell_type": "code",
   "execution_count": null,
   "metadata": {
    "id": "-IgZ-9zGc_VO"
   },
   "outputs": [],
   "source": [
    "!cp -r /gdrive/MyDrive/toadid_detection/18112022_all/* toadid_detection/"
   ]
  },
  {
   "cell_type": "code",
   "execution_count": null,
   "metadata": {
    "colab": {
     "base_uri": "https://localhost:8080/"
    },
    "id": "DcmbyldqPSLU",
    "outputId": "d21e8acd-19f7-416c-fd84-5325853450af"
   },
   "outputs": [
    {
     "name": "stdout",
     "output_type": "stream",
     "text": [
      "15092022  18112022_all\tbest.pt\n"
     ]
    }
   ],
   "source": [
    "!ls /gdrive/MyDrive/toadid_detection"
   ]
  },
  {
   "cell_type": "markdown",
   "metadata": {
    "id": "0Njt6nn2dhqq"
   },
   "source": [
    "### Export tensorflow.js model"
   ]
  },
  {
   "cell_type": "code",
   "execution_count": null,
   "metadata": {
    "id": "9kNN-K4YefkA"
   },
   "outputs": [],
   "source": [
    "!pip install tensorflowjs -q"
   ]
  },
  {
   "cell_type": "code",
   "execution_count": null,
   "metadata": {
    "colab": {
     "base_uri": "https://localhost:8080/"
    },
    "id": "EldleUNfdmKv",
    "outputId": "685ec668-03d3-4d45-f7ec-a84d43678995"
   },
   "outputs": [
    {
     "name": "stdout",
     "output_type": "stream",
     "text": [
      "\u001b[34m\u001b[1mexport: \u001b[0mdata=data/coco128.yaml, weights=['toadid_detection/weights/best.pt'], imgsz=[640, 640], batch_size=1, device=cpu, half=False, inplace=False, keras=False, optimize=False, int8=False, dynamic=False, simplify=False, opset=12, verbose=False, workspace=4, nms=False, agnostic_nms=False, topk_per_class=100, topk_all=100, iou_thres=0.45, conf_thres=0.25, include=['tfjs']\n",
      "YOLOv5 🚀 v7.0-4-g7398d2d Python-3.7.15 torch-1.12.1+cu113 CPU\n",
      "\n",
      "Fusing layers... \n",
      "Model summary: 157 layers, 7012822 parameters, 0 gradients, 15.8 GFLOPs\n",
      "\n",
      "\u001b[34m\u001b[1mPyTorch:\u001b[0m starting from toadid_detection/weights/best.pt with output shape (1, 25200, 6) (13.8 MB)\n",
      "2022-11-24 14:06:11.374322: I tensorflow/core/platform/cpu_feature_guard.cc:193] This TensorFlow binary is optimized with oneAPI Deep Neural Network Library (oneDNN) to use the following CPU instructions in performance-critical operations:  AVX2 FMA\n",
      "To enable them in other operations, rebuild TensorFlow with the appropriate compiler flags.\n",
      "2022-11-24 14:06:12.707131: W tensorflow/compiler/xla/stream_executor/platform/default/dso_loader.cc:64] Could not load dynamic library 'libnvinfer.so.7'; dlerror: libnvinfer.so.7: cannot open shared object file: No such file or directory; LD_LIBRARY_PATH: /usr/local/lib/python3.7/dist-packages/cv2/../../lib64:/usr/local/lib/python3.7/dist-packages/cv2/../../lib64:/usr/local/nvidia/lib:/usr/local/nvidia/lib64\n",
      "2022-11-24 14:06:12.707371: W tensorflow/compiler/xla/stream_executor/platform/default/dso_loader.cc:64] Could not load dynamic library 'libnvinfer_plugin.so.7'; dlerror: libnvinfer_plugin.so.7: cannot open shared object file: No such file or directory; LD_LIBRARY_PATH: /usr/local/lib/python3.7/dist-packages/cv2/../../lib64:/usr/local/lib/python3.7/dist-packages/cv2/../../lib64:/usr/local/nvidia/lib:/usr/local/nvidia/lib64\n",
      "2022-11-24 14:06:12.707395: W tensorflow/compiler/tf2tensorrt/utils/py_utils.cc:38] TF-TRT Warning: Cannot dlopen some TensorRT libraries. If you would like to use Nvidia GPU with TensorRT, please make sure the missing libraries mentioned above are installed properly.\n",
      "\n",
      "\u001b[34m\u001b[1mTensorFlow SavedModel:\u001b[0m starting export with tensorflow 2.11.0...\n",
      "\n",
      "                 from  n    params  module                                  arguments                     \n",
      "2022-11-24 14:06:14.057501: E tensorflow/compiler/xla/stream_executor/cuda/cuda_driver.cc:267] failed call to cuInit: CUDA_ERROR_NO_DEVICE: no CUDA-capable device is detected\n",
      "  0                -1  1      3520  models.common.Conv                      [3, 32, 6, 2, 2]              \n",
      "  1                -1  1     18560  models.common.Conv                      [32, 64, 3, 2]                \n",
      "  2                -1  1     18816  models.common.C3                        [64, 64, 1]                   \n",
      "  3                -1  1     73984  models.common.Conv                      [64, 128, 3, 2]               \n",
      "  4                -1  1    115712  models.common.C3                        [128, 128, 2]                 \n",
      "  5                -1  1    295424  models.common.Conv                      [128, 256, 3, 2]              \n",
      "  6                -1  1    625152  models.common.C3                        [256, 256, 3]                 \n",
      "  7                -1  1   1180672  models.common.Conv                      [256, 512, 3, 2]              \n",
      "  8                -1  1   1182720  models.common.C3                        [512, 512, 1]                 \n",
      "  9                -1  1    656896  models.common.SPPF                      [512, 512, 5]                 \n",
      " 10                -1  1    131584  models.common.Conv                      [512, 256, 1, 1]              \n",
      " 11                -1  1         0  torch.nn.modules.upsampling.Upsample    [None, 2, 'nearest']          \n",
      " 12           [-1, 6]  1         0  models.common.Concat                    [1]                           \n",
      " 13                -1  1    361984  models.common.C3                        [512, 256, 1, False]          \n",
      " 14                -1  1     33024  models.common.Conv                      [256, 128, 1, 1]              \n",
      " 15                -1  1         0  torch.nn.modules.upsampling.Upsample    [None, 2, 'nearest']          \n",
      " 16           [-1, 4]  1         0  models.common.Concat                    [1]                           \n",
      " 17                -1  1     90880  models.common.C3                        [256, 128, 1, False]          \n",
      " 18                -1  1    147712  models.common.Conv                      [128, 128, 3, 2]              \n",
      " 19          [-1, 14]  1         0  models.common.Concat                    [1]                           \n",
      " 20                -1  1    296448  models.common.C3                        [256, 256, 1, False]          \n",
      " 21                -1  1    590336  models.common.Conv                      [256, 256, 3, 2]              \n",
      " 22          [-1, 10]  1         0  models.common.Concat                    [1]                           \n",
      " 23                -1  1   1182720  models.common.C3                        [512, 512, 1, False]          \n",
      " 24      [17, 20, 23]  1     16182  models.yolo.Detect                      [1, [[10, 13, 16, 30, 33, 23], [30, 61, 62, 45, 59, 119], [116, 90, 156, 198, 373, 326]], [128, 256, 512], [640, 640]]\n",
      "WARNING:tensorflow:From /usr/local/lib/python3.7/dist-packages/tensorflow/python/autograph/pyct/static_analysis/liveness.py:83: Analyzer.lamba_check (from tensorflow.python.autograph.pyct.static_analysis.liveness) is deprecated and will be removed after 2023-09-23.\n",
      "Instructions for updating:\n",
      "Lambda fuctions will be no more assumed to be used in the statement where they are used, or at least in the same block. https://github.com/tensorflow/tensorflow/issues/56089\n",
      "WARNING:tensorflow:From /usr/local/lib/python3.7/dist-packages/tensorflow/python/autograph/pyct/static_analysis/liveness.py:83: Analyzer.lamba_check (from tensorflow.python.autograph.pyct.static_analysis.liveness) is deprecated and will be removed after 2023-09-23.\n",
      "Instructions for updating:\n",
      "Lambda fuctions will be no more assumed to be used in the statement where they are used, or at least in the same block. https://github.com/tensorflow/tensorflow/issues/56089\n",
      "Model: \"model\"\n",
      "__________________________________________________________________________________________________\n",
      " Layer (type)                   Output Shape         Param #     Connected to                     \n",
      "==================================================================================================\n",
      " input_1 (InputLayer)           [(1, 640, 640, 3)]   0           []                               \n",
      "                                                                                                  \n",
      " tf_conv (TFConv)               (1, 320, 320, 32)    3488        ['input_1[0][0]']                \n",
      "                                                                                                  \n",
      " tf_conv_1 (TFConv)             (1, 160, 160, 64)    18496       ['tf_conv[0][0]']                \n",
      "                                                                                                  \n",
      " tfc3 (TFC3)                    (1, 160, 160, 64)    18624       ['tf_conv_1[0][0]']              \n",
      "                                                                                                  \n",
      " tf_conv_7 (TFConv)             (1, 80, 80, 128)     73856       ['tfc3[0][0]']                   \n",
      "                                                                                                  \n",
      " tfc3_1 (TFC3)                  (1, 80, 80, 128)     115200      ['tf_conv_7[0][0]']              \n",
      "                                                                                                  \n",
      " tf_conv_15 (TFConv)            (1, 40, 40, 256)     295168      ['tfc3_1[0][0]']                 \n",
      "                                                                                                  \n",
      " tfc3_2 (TFC3)                  (1, 40, 40, 256)     623872      ['tf_conv_15[0][0]']             \n",
      "                                                                                                  \n",
      " tf_conv_25 (TFConv)            (1, 20, 20, 512)     1180160     ['tfc3_2[0][0]']                 \n",
      "                                                                                                  \n",
      " tfc3_3 (TFC3)                  (1, 20, 20, 512)     1181184     ['tf_conv_25[0][0]']             \n",
      "                                                                                                  \n",
      " tfsppf (TFSPPF)                (1, 20, 20, 512)     656128      ['tfc3_3[0][0]']                 \n",
      "                                                                                                  \n",
      " tf_conv_33 (TFConv)            (1, 20, 20, 256)     131328      ['tfsppf[0][0]']                 \n",
      "                                                                                                  \n",
      " tf_upsample (TFUpsample)       (1, 40, 40, 256)     0           ['tf_conv_33[0][0]']             \n",
      "                                                                                                  \n",
      " tf_concat (TFConcat)           (1, 40, 40, 512)     0           ['tf_upsample[0][0]',            \n",
      "                                                                  'tfc3_2[0][0]']                 \n",
      "                                                                                                  \n",
      " tfc3_4 (TFC3)                  (1, 40, 40, 256)     361216      ['tf_concat[0][0]']              \n",
      "                                                                                                  \n",
      " tf_conv_39 (TFConv)            (1, 40, 40, 128)     32896       ['tfc3_4[0][0]']                 \n",
      "                                                                                                  \n",
      " tf_upsample_1 (TFUpsample)     (1, 80, 80, 128)     0           ['tf_conv_39[0][0]']             \n",
      "                                                                                                  \n",
      " tf_concat_1 (TFConcat)         (1, 80, 80, 256)     0           ['tf_upsample_1[0][0]',          \n",
      "                                                                  'tfc3_1[0][0]']                 \n",
      "                                                                                                  \n",
      " tfc3_5 (TFC3)                  (1, 80, 80, 128)     90496       ['tf_concat_1[0][0]']            \n",
      "                                                                                                  \n",
      " tf_conv_45 (TFConv)            (1, 40, 40, 128)     147584      ['tfc3_5[0][0]']                 \n",
      "                                                                                                  \n",
      " tf_concat_2 (TFConcat)         (1, 40, 40, 256)     0           ['tf_conv_45[0][0]',             \n",
      "                                                                  'tf_conv_39[0][0]']             \n",
      "                                                                                                  \n",
      " tfc3_6 (TFC3)                  (1, 40, 40, 256)     295680      ['tf_concat_2[0][0]']            \n",
      "                                                                                                  \n",
      " tf_conv_51 (TFConv)            (1, 20, 20, 256)     590080      ['tfc3_6[0][0]']                 \n",
      "                                                                                                  \n",
      " tf_concat_3 (TFConcat)         (1, 20, 20, 512)     0           ['tf_conv_51[0][0]',             \n",
      "                                                                  'tf_conv_33[0][0]']             \n",
      "                                                                                                  \n",
      " tfc3_7 (TFC3)                  (1, 20, 20, 512)     1181184     ['tf_concat_3[0][0]']            \n",
      "                                                                                                  \n",
      " tf_detect (TFDetect)           ((1, 25200, 6),      16182       ['tfc3_5[0][0]',                 \n",
      "                                )                                 'tfc3_6[0][0]',                 \n",
      "                                                                  'tfc3_7[0][0]']                 \n",
      "                                                                                                  \n",
      " tf.__operators__.getitem (Slic  (1, 25200, 4)       0           ['tf_detect[0][0]']              \n",
      " ingOpLambda)                                                                                     \n",
      "                                                                                                  \n",
      " tf.split (TFOpLambda)          [(1, 25200, 1),      0           ['tf.__operators__.getitem[0][0]'\n",
      "                                 (1, 25200, 1),                  ]                                \n",
      "                                 (1, 25200, 1),                                                   \n",
      "                                 (1, 25200, 1)]                                                   \n",
      "                                                                                                  \n",
      " tf.math.truediv (TFOpLambda)   (1, 25200, 1)        0           ['tf.split[0][2]']               \n",
      "                                                                                                  \n",
      " tf.math.truediv_1 (TFOpLambda)  (1, 25200, 1)       0           ['tf.split[0][3]']               \n",
      "                                                                                                  \n",
      " tf.math.truediv_2 (TFOpLambda)  (1, 25200, 1)       0           ['tf.split[0][2]']               \n",
      "                                                                                                  \n",
      " tf.math.truediv_3 (TFOpLambda)  (1, 25200, 1)       0           ['tf.split[0][3]']               \n",
      "                                                                                                  \n",
      " tf.math.subtract (TFOpLambda)  (1, 25200, 1)        0           ['tf.split[0][0]',               \n",
      "                                                                  'tf.math.truediv[0][0]']        \n",
      "                                                                                                  \n",
      " tf.math.subtract_1 (TFOpLambda  (1, 25200, 1)       0           ['tf.split[0][1]',               \n",
      " )                                                                'tf.math.truediv_1[0][0]']      \n",
      "                                                                                                  \n",
      " tf.__operators__.add (TFOpLamb  (1, 25200, 1)       0           ['tf.split[0][0]',               \n",
      " da)                                                              'tf.math.truediv_2[0][0]']      \n",
      "                                                                                                  \n",
      " tf.__operators__.add_1 (TFOpLa  (1, 25200, 1)       0           ['tf.split[0][1]',               \n",
      " mbda)                                                            'tf.math.truediv_3[0][0]']      \n",
      "                                                                                                  \n",
      " tf.__operators__.getitem_2 (Sl  (1, 25200, 1)       0           ['tf_detect[0][0]']              \n",
      " icingOpLambda)                                                                                   \n",
      "                                                                                                  \n",
      " tf.__operators__.getitem_1 (Sl  (1, 25200, 1)       0           ['tf_detect[0][0]']              \n",
      " icingOpLambda)                                                                                   \n",
      "                                                                                                  \n",
      " tf.concat (TFOpLambda)         (1, 25200, 4)        0           ['tf.math.subtract[0][0]',       \n",
      "                                                                  'tf.math.subtract_1[0][0]',     \n",
      "                                                                  'tf.__operators__.add[0][0]',   \n",
      "                                                                  'tf.__operators__.add_1[0][0]'] \n",
      "                                                                                                  \n",
      " tf.math.multiply (TFOpLambda)  (1, 25200, 1)        0           ['tf.__operators__.getitem_1[0][0\n",
      "                                                                 ]',                              \n",
      "                                                                  'tf.__operators__.getitem_2[0][0\n",
      "                                                                 ]']                              \n",
      "                                                                                                  \n",
      " agnostic_nms_1 (AgnosticNMS)   ((1, None, 4),       0           ['tf.concat[0][0]',              \n",
      "                                 (1, None),                       'tf.__operators__.getitem_2[0][0\n",
      "                                 (1, None),                      ]',                              \n",
      "                                 (1,))                            'tf.math.multiply[0][0]']       \n",
      "                                                                                                  \n",
      "==================================================================================================\n",
      "Total params: 7,012,822\n",
      "Trainable params: 0\n",
      "Non-trainable params: 7,012,822\n",
      "__________________________________________________________________________________________________\n",
      "\u001b[34m\u001b[1mTensorFlow SavedModel:\u001b[0m export success ✅ 11.4s, saved as toadid_detection/weights/best_saved_model (27.1 MB)\n",
      "\n",
      "\u001b[34m\u001b[1mTensorFlow GraphDef:\u001b[0m starting export with tensorflow 2.11.0...\n",
      "\u001b[34m\u001b[1mTensorFlow GraphDef:\u001b[0m export success ✅ 3.0s, saved as toadid_detection/weights/best.pb (27.0 MB)\n",
      "\n",
      "\u001b[34m\u001b[1mTensorFlow.js:\u001b[0m starting export with tensorflowjs 4.1.0...\n",
      "2022-11-24 14:06:27.615352: W tensorflow/compiler/xla/stream_executor/platform/default/dso_loader.cc:64] Could not load dynamic library 'libnvinfer.so.7'; dlerror: libnvinfer.so.7: cannot open shared object file: No such file or directory; LD_LIBRARY_PATH: /usr/local/lib/python3.7/dist-packages/cv2/../../lib64:/usr/local/lib/python3.7/dist-packages/cv2/../../lib64:/usr/local/nvidia/lib:/usr/local/nvidia/lib64\n",
      "2022-11-24 14:06:27.615470: W tensorflow/compiler/xla/stream_executor/platform/default/dso_loader.cc:64] Could not load dynamic library 'libnvinfer_plugin.so.7'; dlerror: libnvinfer_plugin.so.7: cannot open shared object file: No such file or directory; LD_LIBRARY_PATH: /usr/local/lib/python3.7/dist-packages/cv2/../../lib64:/usr/local/lib/python3.7/dist-packages/cv2/../../lib64:/usr/local/nvidia/lib:/usr/local/nvidia/lib64\n",
      "2022-11-24 14:06:27.615495: W tensorflow/compiler/tf2tensorrt/utils/py_utils.cc:38] TF-TRT Warning: Cannot dlopen some TensorRT libraries. If you would like to use Nvidia GPU with TensorRT, please make sure the missing libraries mentioned above are installed properly.\n",
      "Writing weight file toadid_detection/weights/best_web_model/model.json...\n",
      "\u001b[34m\u001b[1mTensorFlow.js:\u001b[0m export success ✅ 6.4s, saved as toadid_detection/weights/best_web_model (27.0 MB)\n",
      "\n",
      "Export complete (21.8s)\n",
      "Results saved to \u001b[1m/content/yolov5/toadid_detection/weights\u001b[0m\n",
      "Detect:          python detect.py --weights toadid_detection/weights/best_web_model \n",
      "Validate:        python val.py --weights toadid_detection/weights/best_web_model \n",
      "PyTorch Hub:     model = torch.hub.load('ultralytics/yolov5', 'custom', 'toadid_detection/weights/best_web_model')  \n",
      "Visualize:       https://netron.app\n"
     ]
    }
   ],
   "source": [
    "!python export.py --weights toadid_detection/weights/best.pt --include tfjs"
   ]
  },
  {
   "cell_type": "code",
   "execution_count": null,
   "metadata": {
    "id": "N2M9ra4_eWSc"
   },
   "outputs": [],
   "source": [
    "!ls toadid_detection/exp/weights"
   ]
  },
  {
   "cell_type": "code",
   "execution_count": null,
   "metadata": {
    "colab": {
     "base_uri": "https://localhost:8080/"
    },
    "id": "12Elu0zWfGwl",
    "outputId": "ffd8e7a3-258f-4f5c-9e62-f4f339b1f7bf"
   },
   "outputs": [
    {
     "name": "stdout",
     "output_type": "stream",
     "text": [
      "  adding: group1-shard6of7.bin (deflated 7%)\n",
      "  adding: group1-shard4of7.bin (deflated 7%)\n",
      "  adding: group1-shard5of7.bin (deflated 7%)\n",
      "  adding: group1-shard1of7.bin (deflated 8%)\n",
      "  adding: model.json (deflated 94%)\n",
      "  adding: group1-shard2of7.bin (deflated 7%)\n",
      "  adding: group1-shard3of7.bin (deflated 7%)\n",
      "  adding: group1-shard7of7.bin (deflated 7%)\n"
     ]
    }
   ],
   "source": [
    "!zip -jr 'toadid.tfjs.zip' toadid_detection/weights/best_web_model"
   ]
  },
  {
   "cell_type": "code",
   "execution_count": null,
   "metadata": {
    "id": "ce5lh-K5fX8R"
   },
   "outputs": [],
   "source": [
    "!cp toadid.tfjs.zip /gdrive/MyDrive/toadid.tfjs.2.zip"
   ]
  },
  {
   "cell_type": "markdown",
   "metadata": {
    "id": "_ie3Cfc0LAQ7"
   },
   "source": [
    "## PyTorch inference"
   ]
  },
  {
   "cell_type": "code",
   "execution_count": null,
   "metadata": {
    "id": "9fbFMu-sP0kY"
   },
   "outputs": [],
   "source": [
    "import os\n",
    "import torchvision.transforms as tt\n",
    "\n",
    "from torch.utils.data import DataLoader, Dataset\n",
    "from torchvision.datasets import ImageFolder\n",
    "from tqdm.notebook import tqdm"
   ]
  },
  {
   "cell_type": "code",
   "execution_count": null,
   "metadata": {
    "colab": {
     "base_uri": "https://localhost:8080/"
    },
    "id": "7koAK40ZQOP_",
    "outputId": "b05b5a62-cb7e-4d7f-c018-77773e59730c"
   },
   "outputs": [
    {
     "name": "stderr",
     "output_type": "stream",
     "text": [
      "Using cache found in /root/.cache/torch/hub/ultralytics_yolov5_master\n",
      "YOLOv5 🚀 v7.0-4-g7398d2d Python-3.7.15 torch-1.12.1+cu113 CPU\n",
      "\n",
      "Fusing layers... \n",
      "Model summary: 157 layers, 7012822 parameters, 0 gradients, 15.8 GFLOPs\n",
      "Adding AutoShape... \n"
     ]
    }
   ],
   "source": [
    "yolo_model = torch.hub.load('ultralytics/yolov5', 'custom', path='toadid_detection/weights/best.pt')"
   ]
  },
  {
   "cell_type": "code",
   "execution_count": null,
   "metadata": {
    "id": "cz6PQ-XDQw06"
   },
   "outputs": [],
   "source": [
    "#state_dict = torch.load('toadid_detection/exp/weights/best.pt')\n",
    "#yolo_model.load_state_dict(state_dict['model'].state_dict())"
   ]
  },
  {
   "cell_type": "code",
   "execution_count": null,
   "metadata": {
    "id": "6bHNmqrXjDvS"
   },
   "outputs": [],
   "source": []
  },
  {
   "cell_type": "code",
   "execution_count": null,
   "metadata": {
    "id": "KKWNufWrQVzV"
   },
   "outputs": [],
   "source": [
    "!rm -r toadbox\n",
    "\n",
    "# TOADBOX_2 dataset\n",
    "!cp /gdrive/MyDrive/toadbox_2.zip .\n",
    "!unzip -q toadbox_2.zip\n",
    "!mv toadbox_2 toadbox"
   ]
  },
  {
   "cell_type": "code",
   "execution_count": null,
   "metadata": {
    "id": "hM296XzGQ9Hy"
   },
   "outputs": [],
   "source": [
    "yolo_model ;"
   ]
  },
  {
   "cell_type": "code",
   "execution_count": null,
   "metadata": {
    "colab": {
     "base_uri": "https://localhost:8080/"
    },
    "id": "eDEOWacrSwV2",
    "outputId": "9f4054e8-874e-44c6-cb69-277614eac582"
   },
   "outputs": [
    {
     "name": "stdout",
     "output_type": "stream",
     "text": [
      "2_t0   2_t14  2_t2   2_t25  2_t30  2_t4  t0   t14  t2\tt25  t30  t36  t6\n",
      "2_t1   2_t15  2_t20  2_t26  2_t31  2_t5  t1   t15  t20\tt26  t31  t37  t7\n",
      "2_t10  2_t16  2_t21  2_t27  2_t32  2_t6  t10  t16  t21\tt27  t32  t38  t8\n",
      "2_t11  2_t17  2_t22  2_t28  2_t33  2_t7  t11  t17  t22\tt28  t33  t39  t9\n",
      "2_t12  2_t18  2_t23  2_t29  2_t34  2_t8  t12  t18  t23\tt29  t34  t4\n",
      "2_t13  2_t19  2_t24  2_t3   2_t35  2_t9  t13  t19  t24\tt3   t35  t5\n"
     ]
    }
   ],
   "source": [
    "!ls toadbox"
   ]
  },
  {
   "cell_type": "code",
   "execution_count": null,
   "metadata": {
    "id": "IGAG2UqFXmXM"
   },
   "outputs": [],
   "source": [
    "def crop_save(ds_path, outdir='toadbox_crop'):\n",
    "    for t in tqdm(os.listdir(ds_path)):\n",
    "        batch_names = os.listdir(os.path.join(ds_path, t))\n",
    "        crop_names = [os.path.join(outdir, t, x) for x in batch_names]\n",
    "        for dir in [os.path.join(outdir, t) for x in batch_names]:\n",
    "            os.makedirs(dir, exist_ok=True)\n",
    "        batch_names = [os.path.join(ds_path, t, x) for x in batch_names]\n",
    "        preds = yolo_model(batch_names)\n",
    "\n",
    "        for name, crop_name, bboxes in zip(batch_names, crop_names, preds.xyxy):\n",
    "            if len(bboxes) == 0:\n",
    "                print(f'{name} empty!')\n",
    "                continue\n",
    "            best_pred = sorted(bboxes, key=lambda bbox: bbox[4], reverse=True)[0]\n",
    "            bbox = best_pred[:4].tolist()\n",
    "            crop = Image.open(name).crop((*bbox, ))\n",
    "            crop.save(crop_name)"
   ]
  },
  {
   "cell_type": "code",
   "execution_count": null,
   "metadata": {
    "id": "huFvfbgx_Pou"
   },
   "outputs": [],
   "source": [
    "out = yolo_model('toadbox/t20/IMG_8788.JPG').crop(save=False)"
   ]
  },
  {
   "cell_type": "code",
   "execution_count": null,
   "metadata": {
    "id": "uzr2b_6MAKS-"
   },
   "outputs": [],
   "source": [
    "import matplotlib.pyplot as plt\n",
    "%matplotlib inline\n",
    "\n",
    "from glob import glob\n",
    "from PIL import Image\n",
    "import cv2 as cv"
   ]
  },
  {
   "cell_type": "code",
   "execution_count": null,
   "metadata": {
    "id": "rTAWZl9O_XAh"
   },
   "outputs": [],
   "source": [
    "def crop_best(yolo_out):\n",
    "    best_score = 0\n",
    "    img = None\n",
    "    for crop in yolo_out:\n",
    "        score = crop['conf'].item()\n",
    "        if score > best_score:\n",
    "            best_score = score\n",
    "            img = crop['im']\n",
    "            img = cv.cvtColor(img, cv.COLOR_BGR2RGB)\n",
    "    return img"
   ]
  },
  {
   "cell_type": "code",
   "execution_count": null,
   "metadata": {
    "colab": {
     "base_uri": "https://localhost:8080/",
     "height": 286
    },
    "id": "wuBsn_sGDawS",
    "outputId": "c5503886-3406-4cfb-ed8d-708775950ae9"
   },
   "outputs": [
    {
     "data": {
      "text/plain": [
       "<matplotlib.image.AxesImage at 0x7f21270c8190>"
      ]
     },
     "execution_count": 89,
     "metadata": {},
     "output_type": "execute_result"
    },
    {
     "data": {
      "image/png": "[encoded data removed]",
      "text/plain": [
       "<Figure size 432x288 with 1 Axes>"
      ]
     },
     "metadata": {
      "needs_background": "light"
     },
     "output_type": "display_data"
    }
   ],
   "source": [
    "plt.imshow(crop_best(out))"
   ]
  },
  {
   "cell_type": "code",
   "execution_count": null,
   "metadata": {
    "id": "LUDnQEkBfIai"
   },
   "outputs": [],
   "source": [
    "crop_save(ds_path='toadbox', outdir='toadbox_crop')"
   ]
  },
  {
   "cell_type": "code",
   "execution_count": null,
   "metadata": {
    "id": "7oekmPh_mfRn"
   },
   "outputs": [],
   "source": [
    "!rm toadbox_crop.zip"
   ]
  },
  {
   "cell_type": "code",
   "execution_count": null,
   "metadata": {
    "id": "BMYahI2zmR03"
   },
   "outputs": [],
   "source": [
    "!zip -qr toadbox_crop.zip toadid_crop/"
   ]
  },
  {
   "cell_type": "code",
   "execution_count": null,
   "metadata": {
    "id": "xP2fSzOFnH4g"
   },
   "outputs": [],
   "source": [
    "!cp toadbox_crop.zip /gdrive/MyDrive/"
   ]
  },
  {
   "cell_type": "code",
   "execution_count": null,
   "metadata": {
    "colab": {
     "base_uri": "https://localhost:8080/",
     "height": 562
    },
    "id": "HZmiUl8Pes0C",
    "outputId": "563893e4-df29-4ad9-8eb1-4da31d95096f"
   },
   "outputs": [
    {
     "data": {
      "image/jpeg": "[encoded data removed]",
      "text/plain": [
       "<IPython.core.display.Image object>"
      ]
     },
     "execution_count": 119,
     "metadata": {
      "image/jpeg": {
       "width": 600
      }
     },
     "output_type": "execute_result"
    }
   ],
   "source": [
    "display.Image(filename='crop/t25/IMG_8874.JPG', width=600)"
   ]
  }
 ],
 "metadata": {
  "colab": {
   "provenance": []
  },
  "gpuClass": "standard",
  "kernelspec": {
   "display_name": "Python 3 (ipykernel)",
   "language": "python",
   "name": "python3"
  },
  "language_info": {
   "codemirror_mode": {
    "name": "ipython",
    "version": 3
   },
   "file_extension": ".py",
   "mimetype": "text/x-python",
   "name": "python",
   "nbconvert_exporter": "python",
   "pygments_lexer": "ipython3",
   "version": "3.10.8"
  }
 },
 "nbformat": 4,
 "nbformat_minor": 1
}
